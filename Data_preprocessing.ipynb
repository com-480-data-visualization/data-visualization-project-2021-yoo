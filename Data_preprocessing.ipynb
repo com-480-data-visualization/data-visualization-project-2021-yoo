{
 "cells": [
  {
   "cell_type": "code",
   "execution_count": 2,
   "id": "8a6bfca4-5f2b-4a66-befe-0196b0003bc0",
   "metadata": {},
   "outputs": [],
   "source": [
    "import pandas as pd\n",
    "import numpy as np\n",
    "import matplotlib.pyplot as plt\n",
    "import seaborn as sns\n",
    "import requests\n",
    "from bs4 import BeautifulSoup\n",
    "import re"
   ]
  },
  {
   "cell_type": "markdown",
   "id": "40b55043-ff86-4a57-b480-a3dcb9723cf0",
   "metadata": {},
   "source": [
    "The European Cup 2020 is planned to start on the 11th June 2021. The team selection of the managers will be announced close to this date. Therefore, we need to find secondary sources that predict the players that will be selected to play for their country. We scrape the players for every participating nation and link those to the Fifa ratings. The dataset for the Fifa ratings comes from [Kaggle](https://www.kaggle.com/batuhandemirci/fifa-2021-team-and-player-dataset) and has been scraped from the website [Sofifa](https://sofifa.com/)."
   ]
  },
  {
   "cell_type": "markdown",
   "id": "58383f56-46bd-424b-853c-27c69a980a1d",
   "metadata": {},
   "source": [
    "## 1. Scrape the expected selection of players of the participating nations"
   ]
  },
  {
   "cell_type": "code",
   "execution_count": 9,
   "id": "3bf3a039-b976-43b2-b6ae-ffc6c60d6eb3",
   "metadata": {},
   "outputs": [],
   "source": [
    "base_url = 'https://www.fussball-wm.pro/em-2021/gruppen/'\n",
    "groups_request = requests.get(base_url)\n",
    "soup = BeautifulSoup(groups_request.text, 'html.parser')"
   ]
  },
  {
   "cell_type": "code",
   "execution_count": 10,
   "id": "5d6f410d-5ed6-4528-9b8d-ca512445f6f5",
   "metadata": {},
   "outputs": [],
   "source": [
    "team_urls = {}\n",
    "for table in soup.findAll(\"table\"):\n",
    "    for team in table.findAll('a'):\n",
    "        team_urls[team.text] = team.get('href')"
   ]
  },
  {
   "cell_type": "code",
   "execution_count": 179,
   "id": "01358d08-620b-423f-aaab-924d92f77d9b",
   "metadata": {},
   "outputs": [],
   "source": [
    "stop_words = ['tor', \n",
    "              'verteidigung', \n",
    "              'verteidiger', \n",
    "              'sechser',\n",
    "              'interessant',\n",
    "              'rechts',\n",
    "              'links',\n",
    "              'dreierkette',\n",
    "              'stürmer',\n",
    "              '0er-position',\n",
    "              'außen',\n",
    "              'hinten',\n",
    "              'angriff',\n",
    "              'nummer eins',\n",
    "              'abwehrseite',\n",
    "              'sturmzentrum',\n",
    "              'dreierreihe',\n",
    "              'außenbahnen',\n",
    "              'sturm',\n",
    "              'mittelfeld',\n",
    "              'zentrum',\n",
    "              'nationalmannschaft',\n",
    "              'nummer',\n",
    "              'einser'\n",
    "             ]"
   ]
  },
  {
   "cell_type": "code",
   "execution_count": 12,
   "id": "8abbf0d3-c605-4208-aa62-f6a8dbcad1ce",
   "metadata": {},
   "outputs": [],
   "source": [
    "def parse_team(team_url):\n",
    "    def check_name(name):\n",
    "        for word in stop_words:\n",
    "            if word.lower() in name.lower():\n",
    "                return False\n",
    "        return True\n",
    "    \n",
    "    team_request = requests.get(team_url)\n",
    "    soup = BeautifulSoup(team_request.text, 'html.parser')\n",
    "    players_soup = soup.findAll('strong')\n",
    "    players = []\n",
    "    for player in players_soup:\n",
    "        player_name = player.text\n",
    "        if check_name(player_name):\n",
    "            players.append(player_name)\n",
    "    return players\n",
    "teams = {}\n",
    "for team, team_url in team_urls.items():\n",
    "    teams[team] = parse_team(team_url)"
   ]
  },
  {
   "cell_type": "code",
   "execution_count": 113,
   "id": "2e298fee-d64a-4754-9d05-33ed43acd7cd",
   "metadata": {},
   "outputs": [],
   "source": [
    "df_teams = pd.DataFrame(pd.DataFrame.from_dict(teams, orient='index').stack(), columns=['Name'])"
   ]
  },
  {
   "cell_type": "code",
   "execution_count": 114,
   "id": "54b9ffd3-4f64-47f3-a004-b916bcc2b05b",
   "metadata": {},
   "outputs": [],
   "source": [
    "translation_dict = {'Türkei':'Turkey',\n",
    "                    'Dänemark':'Denmark',\n",
    "                    'Niederlande':'Netherlands',\n",
    "                    'Italien':'Italy',\n",
    "                    'Finnland':'Finland',\n",
    "                    'Wales':'Wales',\n",
    "                    'England':'England',\n",
    "                    'Portugal':'Portugal',\n",
    "                    'Schweden':'Schweden',\n",
    "                    'Belgien':'Belgium',\n",
    "                    'Österreich':'Austria',\n",
    "                    'Schweiz': 'Switzerland', \n",
    "                    'Russland':'Russia',\n",
    "                    'Nordmazedonien':'North Macedonia', \n",
    "                    'Spanien':'Spain',\n",
    "                    'Ungarn':'Hungary',\n",
    "                    'Kroatien':'Croatia',\n",
    "                    'Schweden':'Sweden',\n",
    "                    'Schottland':'Scotland',\n",
    "                    'Polen':'Poland',\n",
    "                    'Frankreich':'France',\n",
    "                    'Tschechien':'Czech Republic',\n",
    "                    'Slowakei':'Slovakia',\n",
    "                    'Deutschland':'Germany',\n",
    "                    'Ukraine':'Ukraine' }"
   ]
  },
  {
   "cell_type": "code",
   "execution_count": 115,
   "id": "7fd19629-f0cb-4231-afac-f9f3d641b3b7",
   "metadata": {},
   "outputs": [],
   "source": [
    "df_teams = df_teams.reset_index().drop(columns='level_1').rename(columns={'level_0':'Nationality'})\n",
    "df_teams['Nationality'] = df_teams['Nationality'].map(translation_dict)\n",
    "df_teams['Name'] = df_teams['Name'].str.lstrip(' ')"
   ]
  },
  {
   "cell_type": "code",
   "execution_count": 116,
   "id": "79189dce-1bcd-4cbe-94c5-5e561a85c90f",
   "metadata": {},
   "outputs": [],
   "source": [
    "df_teams['Name'] = df_teams['Name'].str.lstrip(' ')"
   ]
  },
  {
   "cell_type": "markdown",
   "id": "7c4b8fa4-3908-4bab-9d00-3cbed0e04a86",
   "metadata": {},
   "source": [
    "## Link the Fifa dataset to the participating teams"
   ]
  },
  {
   "cell_type": "code",
   "execution_count": 119,
   "id": "6d88985b-63b5-4119-97f8-ebf12b52a68a",
   "metadata": {},
   "outputs": [
    {
     "data": {
      "text/html": [
       "<div>\n",
       "<style scoped>\n",
       "    .dataframe tbody tr th:only-of-type {\n",
       "        vertical-align: middle;\n",
       "    }\n",
       "\n",
       "    .dataframe tbody tr th {\n",
       "        vertical-align: top;\n",
       "    }\n",
       "\n",
       "    .dataframe thead th {\n",
       "        text-align: right;\n",
       "    }\n",
       "</style>\n",
       "<table border=\"1\" class=\"dataframe\">\n",
       "  <thead>\n",
       "    <tr style=\"text-align: right;\">\n",
       "      <th></th>\n",
       "      <th>int_player_id</th>\n",
       "      <th>str_player_name</th>\n",
       "      <th>str_positions</th>\n",
       "      <th>dt_date_of_birth</th>\n",
       "      <th>int_height</th>\n",
       "      <th>int_weight</th>\n",
       "      <th>int_overall_rating</th>\n",
       "      <th>int_potential_rating</th>\n",
       "      <th>str_best_position</th>\n",
       "      <th>int_best_overall_rating</th>\n",
       "      <th>...</th>\n",
       "      <th>int_international_reputations</th>\n",
       "      <th>str_work_rate</th>\n",
       "      <th>str_body_type</th>\n",
       "      <th>int_dribbling</th>\n",
       "      <th>int_curve</th>\n",
       "      <th>int_fk_accuracy</th>\n",
       "      <th>int_long_passing</th>\n",
       "      <th>int_ball_control</th>\n",
       "      <th>str_player_speciality</th>\n",
       "      <th>str_trait</th>\n",
       "    </tr>\n",
       "  </thead>\n",
       "  <tbody>\n",
       "    <tr>\n",
       "      <th>0</th>\n",
       "      <td>1</td>\n",
       "      <td>Lionel Andrés Messi Cuccittini</td>\n",
       "      <td>RW, ST, CF</td>\n",
       "      <td>1987-06-24</td>\n",
       "      <td>170</td>\n",
       "      <td>72</td>\n",
       "      <td>93</td>\n",
       "      <td>93</td>\n",
       "      <td>RW</td>\n",
       "      <td>93</td>\n",
       "      <td>...</td>\n",
       "      <td>5</td>\n",
       "      <td>Medium/ Low</td>\n",
       "      <td>Unique</td>\n",
       "      <td>96</td>\n",
       "      <td>93</td>\n",
       "      <td>94</td>\n",
       "      <td>91</td>\n",
       "      <td>96</td>\n",
       "      <td>['Dribbler', 'Distance Shooter', 'FK Specialis...</td>\n",
       "      <td>['Finesse Shot', 'Long Shot Taker (AI)', 'Spee...</td>\n",
       "    </tr>\n",
       "    <tr>\n",
       "      <th>1</th>\n",
       "      <td>2</td>\n",
       "      <td>Cristiano Ronaldo dos Santos Aveiro</td>\n",
       "      <td>ST, LW</td>\n",
       "      <td>1985-02-05</td>\n",
       "      <td>187</td>\n",
       "      <td>83</td>\n",
       "      <td>92</td>\n",
       "      <td>92</td>\n",
       "      <td>ST</td>\n",
       "      <td>92</td>\n",
       "      <td>...</td>\n",
       "      <td>5</td>\n",
       "      <td>High/ Low</td>\n",
       "      <td>Unique</td>\n",
       "      <td>88</td>\n",
       "      <td>81</td>\n",
       "      <td>76</td>\n",
       "      <td>77</td>\n",
       "      <td>92</td>\n",
       "      <td>['Aerial Threat', 'Dribbler', 'Distance Shoote...</td>\n",
       "      <td>['Power Free-Kick', 'Flair', 'Long Shot Taker ...</td>\n",
       "    </tr>\n",
       "    <tr>\n",
       "      <th>2</th>\n",
       "      <td>3</td>\n",
       "      <td>Jan Oblak</td>\n",
       "      <td>GK</td>\n",
       "      <td>1993-01-07</td>\n",
       "      <td>188</td>\n",
       "      <td>87</td>\n",
       "      <td>91</td>\n",
       "      <td>93</td>\n",
       "      <td>GK</td>\n",
       "      <td>91</td>\n",
       "      <td>...</td>\n",
       "      <td>3</td>\n",
       "      <td>Medium/ Medium</td>\n",
       "      <td>Unique</td>\n",
       "      <td>12</td>\n",
       "      <td>13</td>\n",
       "      <td>14</td>\n",
       "      <td>40</td>\n",
       "      <td>30</td>\n",
       "      <td>NaN</td>\n",
       "      <td>['GK Long Throw', 'Comes For Crosses']</td>\n",
       "    </tr>\n",
       "    <tr>\n",
       "      <th>3</th>\n",
       "      <td>4</td>\n",
       "      <td>Kevin De Bruyne</td>\n",
       "      <td>CAM, CM</td>\n",
       "      <td>1991-06-28</td>\n",
       "      <td>181</td>\n",
       "      <td>70</td>\n",
       "      <td>91</td>\n",
       "      <td>91</td>\n",
       "      <td>CAM</td>\n",
       "      <td>91</td>\n",
       "      <td>...</td>\n",
       "      <td>4</td>\n",
       "      <td>High/ High</td>\n",
       "      <td>Unique</td>\n",
       "      <td>88</td>\n",
       "      <td>85</td>\n",
       "      <td>83</td>\n",
       "      <td>93</td>\n",
       "      <td>92</td>\n",
       "      <td>['Dribbler', 'Playmaker\\xa0', 'Engine', 'Dista...</td>\n",
       "      <td>['Injury Prone', 'Leadership', 'Early Crosser'...</td>\n",
       "    </tr>\n",
       "    <tr>\n",
       "      <th>4</th>\n",
       "      <td>5</td>\n",
       "      <td>Neymar da Silva Santos Júnior</td>\n",
       "      <td>LW, CAM</td>\n",
       "      <td>1992-02-05</td>\n",
       "      <td>175</td>\n",
       "      <td>68</td>\n",
       "      <td>91</td>\n",
       "      <td>91</td>\n",
       "      <td>LW</td>\n",
       "      <td>91</td>\n",
       "      <td>...</td>\n",
       "      <td>5</td>\n",
       "      <td>High/ Medium</td>\n",
       "      <td>Unique</td>\n",
       "      <td>95</td>\n",
       "      <td>88</td>\n",
       "      <td>89</td>\n",
       "      <td>81</td>\n",
       "      <td>95</td>\n",
       "      <td>['Speedster', 'Dribbler', 'Playmaker\\xa0', 'FK...</td>\n",
       "      <td>['Injury Prone', 'Flair', 'Speed Dribbler (AI)...</td>\n",
       "    </tr>\n",
       "    <tr>\n",
       "      <th>...</th>\n",
       "      <td>...</td>\n",
       "      <td>...</td>\n",
       "      <td>...</td>\n",
       "      <td>...</td>\n",
       "      <td>...</td>\n",
       "      <td>...</td>\n",
       "      <td>...</td>\n",
       "      <td>...</td>\n",
       "      <td>...</td>\n",
       "      <td>...</td>\n",
       "      <td>...</td>\n",
       "      <td>...</td>\n",
       "      <td>...</td>\n",
       "      <td>...</td>\n",
       "      <td>...</td>\n",
       "      <td>...</td>\n",
       "      <td>...</td>\n",
       "      <td>...</td>\n",
       "      <td>...</td>\n",
       "      <td>...</td>\n",
       "      <td>...</td>\n",
       "    </tr>\n",
       "    <tr>\n",
       "      <th>18997</th>\n",
       "      <td>18998</td>\n",
       "      <td>张梦炫</td>\n",
       "      <td>CB</td>\n",
       "      <td>1999-04-26</td>\n",
       "      <td>177</td>\n",
       "      <td>70</td>\n",
       "      <td>47</td>\n",
       "      <td>52</td>\n",
       "      <td>CB</td>\n",
       "      <td>49</td>\n",
       "      <td>...</td>\n",
       "      <td>1</td>\n",
       "      <td>Low/ Low</td>\n",
       "      <td>Normal (170-185)</td>\n",
       "      <td>19</td>\n",
       "      <td>21</td>\n",
       "      <td>22</td>\n",
       "      <td>25</td>\n",
       "      <td>24</td>\n",
       "      <td>NaN</td>\n",
       "      <td>NaN</td>\n",
       "    </tr>\n",
       "    <tr>\n",
       "      <th>18998</th>\n",
       "      <td>18999</td>\n",
       "      <td>Vani Da Silva</td>\n",
       "      <td>ST</td>\n",
       "      <td>2003-03-30</td>\n",
       "      <td>171</td>\n",
       "      <td>58</td>\n",
       "      <td>47</td>\n",
       "      <td>67</td>\n",
       "      <td>CAM</td>\n",
       "      <td>51</td>\n",
       "      <td>...</td>\n",
       "      <td>1</td>\n",
       "      <td>Medium/ Medium</td>\n",
       "      <td>Lean (170-185)</td>\n",
       "      <td>53</td>\n",
       "      <td>43</td>\n",
       "      <td>31</td>\n",
       "      <td>37</td>\n",
       "      <td>44</td>\n",
       "      <td>NaN</td>\n",
       "      <td>NaN</td>\n",
       "    </tr>\n",
       "    <tr>\n",
       "      <th>18999</th>\n",
       "      <td>19000</td>\n",
       "      <td>夏奥</td>\n",
       "      <td>CB</td>\n",
       "      <td>1999-02-11</td>\n",
       "      <td>178</td>\n",
       "      <td>66</td>\n",
       "      <td>47</td>\n",
       "      <td>55</td>\n",
       "      <td>CB</td>\n",
       "      <td>49</td>\n",
       "      <td>...</td>\n",
       "      <td>1</td>\n",
       "      <td>Medium/ Medium</td>\n",
       "      <td>Lean (170-185)</td>\n",
       "      <td>27</td>\n",
       "      <td>23</td>\n",
       "      <td>21</td>\n",
       "      <td>29</td>\n",
       "      <td>42</td>\n",
       "      <td>NaN</td>\n",
       "      <td>NaN</td>\n",
       "    </tr>\n",
       "    <tr>\n",
       "      <th>19000</th>\n",
       "      <td>19001</td>\n",
       "      <td>Ben Hough</td>\n",
       "      <td>CM</td>\n",
       "      <td>2003-06-22</td>\n",
       "      <td>175</td>\n",
       "      <td>65</td>\n",
       "      <td>47</td>\n",
       "      <td>67</td>\n",
       "      <td>CAM</td>\n",
       "      <td>51</td>\n",
       "      <td>...</td>\n",
       "      <td>1</td>\n",
       "      <td>Medium/ Medium</td>\n",
       "      <td>Lean (170-185)</td>\n",
       "      <td>46</td>\n",
       "      <td>40</td>\n",
       "      <td>35</td>\n",
       "      <td>50</td>\n",
       "      <td>48</td>\n",
       "      <td>NaN</td>\n",
       "      <td>NaN</td>\n",
       "    </tr>\n",
       "    <tr>\n",
       "      <th>19001</th>\n",
       "      <td>19002</td>\n",
       "      <td>Mateo Nicolás Flores Cuevas</td>\n",
       "      <td>CDM</td>\n",
       "      <td>2001-01-29</td>\n",
       "      <td>174</td>\n",
       "      <td>68</td>\n",
       "      <td>47</td>\n",
       "      <td>63</td>\n",
       "      <td>CDM</td>\n",
       "      <td>48</td>\n",
       "      <td>...</td>\n",
       "      <td>1</td>\n",
       "      <td>Medium/ Medium</td>\n",
       "      <td>Normal (170-185)</td>\n",
       "      <td>45</td>\n",
       "      <td>31</td>\n",
       "      <td>32</td>\n",
       "      <td>47</td>\n",
       "      <td>43</td>\n",
       "      <td>NaN</td>\n",
       "      <td>NaN</td>\n",
       "    </tr>\n",
       "  </tbody>\n",
       "</table>\n",
       "<p>19002 rows × 56 columns</p>\n",
       "</div>"
      ],
      "text/plain": [
       "       int_player_id                      str_player_name str_positions  \\\n",
       "0                  1       Lionel Andrés Messi Cuccittini    RW, ST, CF   \n",
       "1                  2  Cristiano Ronaldo dos Santos Aveiro        ST, LW   \n",
       "2                  3                            Jan Oblak            GK   \n",
       "3                  4                      Kevin De Bruyne       CAM, CM   \n",
       "4                  5        Neymar da Silva Santos Júnior       LW, CAM   \n",
       "...              ...                                  ...           ...   \n",
       "18997          18998                                  张梦炫            CB   \n",
       "18998          18999                        Vani Da Silva            ST   \n",
       "18999          19000                                   夏奥            CB   \n",
       "19000          19001                            Ben Hough            CM   \n",
       "19001          19002          Mateo Nicolás Flores Cuevas           CDM   \n",
       "\n",
       "      dt_date_of_birth  int_height  int_weight  int_overall_rating  \\\n",
       "0           1987-06-24         170          72                  93   \n",
       "1           1985-02-05         187          83                  92   \n",
       "2           1993-01-07         188          87                  91   \n",
       "3           1991-06-28         181          70                  91   \n",
       "4           1992-02-05         175          68                  91   \n",
       "...                ...         ...         ...                 ...   \n",
       "18997       1999-04-26         177          70                  47   \n",
       "18998       2003-03-30         171          58                  47   \n",
       "18999       1999-02-11         178          66                  47   \n",
       "19000       2003-06-22         175          65                  47   \n",
       "19001       2001-01-29         174          68                  47   \n",
       "\n",
       "       int_potential_rating str_best_position  int_best_overall_rating  ...  \\\n",
       "0                        93                RW                       93  ...   \n",
       "1                        92                ST                       92  ...   \n",
       "2                        93                GK                       91  ...   \n",
       "3                        91               CAM                       91  ...   \n",
       "4                        91                LW                       91  ...   \n",
       "...                     ...               ...                      ...  ...   \n",
       "18997                    52                CB                       49  ...   \n",
       "18998                    67               CAM                       51  ...   \n",
       "18999                    55                CB                       49  ...   \n",
       "19000                    67               CAM                       51  ...   \n",
       "19001                    63               CDM                       48  ...   \n",
       "\n",
       "       int_international_reputations   str_work_rate     str_body_type  \\\n",
       "0                                  5     Medium/ Low            Unique   \n",
       "1                                  5       High/ Low            Unique   \n",
       "2                                  3  Medium/ Medium            Unique   \n",
       "3                                  4      High/ High            Unique   \n",
       "4                                  5    High/ Medium            Unique   \n",
       "...                              ...             ...               ...   \n",
       "18997                              1        Low/ Low  Normal (170-185)   \n",
       "18998                              1  Medium/ Medium    Lean (170-185)   \n",
       "18999                              1  Medium/ Medium    Lean (170-185)   \n",
       "19000                              1  Medium/ Medium    Lean (170-185)   \n",
       "19001                              1  Medium/ Medium  Normal (170-185)   \n",
       "\n",
       "      int_dribbling  int_curve  int_fk_accuracy  int_long_passing  \\\n",
       "0                96         93               94                91   \n",
       "1                88         81               76                77   \n",
       "2                12         13               14                40   \n",
       "3                88         85               83                93   \n",
       "4                95         88               89                81   \n",
       "...             ...        ...              ...               ...   \n",
       "18997            19         21               22                25   \n",
       "18998            53         43               31                37   \n",
       "18999            27         23               21                29   \n",
       "19000            46         40               35                50   \n",
       "19001            45         31               32                47   \n",
       "\n",
       "       int_ball_control                              str_player_speciality  \\\n",
       "0                    96  ['Dribbler', 'Distance Shooter', 'FK Specialis...   \n",
       "1                    92  ['Aerial Threat', 'Dribbler', 'Distance Shoote...   \n",
       "2                    30                                                NaN   \n",
       "3                    92  ['Dribbler', 'Playmaker\\xa0', 'Engine', 'Dista...   \n",
       "4                    95  ['Speedster', 'Dribbler', 'Playmaker\\xa0', 'FK...   \n",
       "...                 ...                                                ...   \n",
       "18997                24                                                NaN   \n",
       "18998                44                                                NaN   \n",
       "18999                42                                                NaN   \n",
       "19000                48                                                NaN   \n",
       "19001                43                                                NaN   \n",
       "\n",
       "                                               str_trait  \n",
       "0      ['Finesse Shot', 'Long Shot Taker (AI)', 'Spee...  \n",
       "1      ['Power Free-Kick', 'Flair', 'Long Shot Taker ...  \n",
       "2                 ['GK Long Throw', 'Comes For Crosses']  \n",
       "3      ['Injury Prone', 'Leadership', 'Early Crosser'...  \n",
       "4      ['Injury Prone', 'Flair', 'Speed Dribbler (AI)...  \n",
       "...                                                  ...  \n",
       "18997                                                NaN  \n",
       "18998                                                NaN  \n",
       "18999                                                NaN  \n",
       "19000                                                NaN  \n",
       "19001                                                NaN  \n",
       "\n",
       "[19002 rows x 56 columns]"
      ]
     },
     "execution_count": 119,
     "metadata": {},
     "output_type": "execute_result"
    }
   ],
   "source": [
    "fifa_players = pd.read_csv('data/fifa_dataset/players.csv')\n",
    "fifa_players"
   ]
  },
  {
   "cell_type": "markdown",
   "id": "a6dbdfe8-cf3c-4021-944b-cf8530985963",
   "metadata": {},
   "source": [
    "The following cell will scrape a football website where the authors speak about the most probable team for the European Championship."
   ]
  },
  {
   "cell_type": "code",
   "execution_count": 154,
   "id": "d87d3e95-9c4f-4b54-a728-a08c724ab3d9",
   "metadata": {},
   "outputs": [],
   "source": [
    "from fuzzywuzzy import fuzz\n",
    "def find_fuzzy_reference(possible_players, name):\n",
    "    \"\"\"\n",
    "    The function recovers the names of the players where the names diverge\n",
    "    in the two different datasets. As the names might be spelled differently\n",
    "    (accents etc.) we need to use a library that is able to recover the most\n",
    "    similar player. The fuzzywuzzy library is based on the Levenshtein distance.\n",
    "    \"\"\"\n",
    "    max_fuzz = 0\n",
    "    max_player = None\n",
    "    \n",
    "    for index, player in possible_players.iterrows():\n",
    "        fuzz_ = fuzz.ratio(name, player['str_player_name'])\n",
    "        if fuzz_ > max_fuzz:\n",
    "            max_fuzz = fuzz_\n",
    "            max_player = player\n",
    "            \n",
    "    if type(max_player) == pd.Series:\n",
    "        return max_player['int_player_id']\n",
    "    else:\n",
    "        return None\n",
    "\n",
    "merge_list = []\n",
    "for index, row in df_teams.iterrows():\n",
    "    name = row['Name']\n",
    "    nationality = row['Nationality']\n",
    "    player = fifa_players[fifa_players['str_player_name'] == name]\n",
    "    \n",
    "    if len(player.index) == 1:\n",
    "        merge_list.append(player['int_player_id'].values[0])\n",
    "    elif len(player.index) > 1:\n",
    "        \n",
    "        if (fifa_players.loc[player.index[0]]['dt_date_of_birth'] == fifa_players.loc[player.index[1]]['dt_date_of_birth']):\n",
    "            merge_list.append(player['int_player_id'].iloc[0])\n",
    "        else:\n",
    "            same_nation_player = player[player['str_nationality'] == nationality]\n",
    "            \n",
    "            if len(same_nation_player) == 1:\n",
    "                merge_list.append(same_nation_player['int_player_id'].iloc[0])\n",
    "                \n",
    "            else:\n",
    "                merge_list.append(None)\n",
    "                \n",
    "    else:\n",
    "        fifa_players_nation = fifa_players[fifa_players['str_nationality']==nationality]\n",
    "        player_index = find_fuzzy_reference(fifa_players_nation, name)\n",
    "        merge_list.append(player_index)"
   ]
  },
  {
   "cell_type": "code",
   "execution_count": 157,
   "id": "dd28ba9b-cd4d-45d8-a3cb-1055c8a8c232",
   "metadata": {},
   "outputs": [],
   "source": [
    "df_teams['merge_list'] = merge_list"
   ]
  },
  {
   "cell_type": "code",
   "execution_count": 210,
   "id": "a85d371f-705c-4e9b-ae2e-176aa525c2c6",
   "metadata": {},
   "outputs": [],
   "source": [
    "EC_teams = df_teams.merge(fifa_players, how='left', left_on='merge_list', right_on='int_player_id')\n",
    "EC_teams = EC_teams.drop_duplicates()\n",
    "EC_teams = EC_teams.infer_objects()"
   ]
  },
  {
   "cell_type": "markdown",
   "id": "d9f8f3d7-32cd-448a-9527-ba2357ab68ee",
   "metadata": {},
   "source": [
    "## Explore the teams"
   ]
  },
  {
   "cell_type": "markdown",
   "id": "5d5f7509-2ea7-4998-9583-bc855e5f7218",
   "metadata": {},
   "source": [
    "### Strongest players in the tournament"
   ]
  },
  {
   "cell_type": "code",
   "execution_count": 211,
   "id": "84ea6e55-c856-4e16-99a3-91464ac87a5c",
   "metadata": {},
   "outputs": [
    {
     "name": "stdout",
     "output_type": "stream",
     "text": [
      "The ten strongest players in the competition by the FIFA overall rating are:\n",
      "Cristiano Ronaldo dos Santos Aveiro with an overall rating of 92.0 playing for Portugal.\n",
      "Robert Lewandowski with an overall rating of 91.0 playing for Poland.\n",
      "Kevin De Bruyne with an overall rating of 91.0 playing for Belgium.\n",
      "Marc-André ter Stegen with an overall rating of 90.0 playing for Germany.\n",
      "Kylian Mbappé Lottin with an overall rating of 90.0 playing for France.\n",
      "Virgil van Dijk with an overall rating of 90.0 playing for Netherlands.\n",
      "Sergio Ramos García with an overall rating of 89.0 playing for Spain.\n",
      "Thibaut Courtois with an overall rating of 89.0 playing for Belgium.\n",
      "Manuel Neuer with an overall rating of 89.0 playing for Germany.\n",
      "N'Golo Kanté with an overall rating of 88.0 playing for France.\n"
     ]
    }
   ],
   "source": [
    "print('The ten strongest players in the competition by the FIFA overall rating are:')\n",
    "for index, player in EC_teams.sort_values('int_overall_rating', ascending=False).head(10).iterrows():\n",
    "        print(f\"{player['str_player_name']} with an overall rating of {player['int_overall_rating']} playing for {player['str_nationality']}.\")"
   ]
  },
  {
   "cell_type": "markdown",
   "id": "f3386d41-49ce-4234-a273-18b66d11c79c",
   "metadata": {},
   "source": [
    "### Number of players in every team\n",
    "We want to remark that in the final team selection, there will be a fixed number of 23 players. Here we consider the players that are, according to experts, the most probable to participate in the tournament. If the final selections are available, we can easily update the teams."
   ]
  },
  {
   "cell_type": "code",
   "execution_count": 231,
   "id": "5af4e935-8bba-4696-b5fc-3d640ffdc3b4",
   "metadata": {},
   "outputs": [
    {
     "data": {
      "text/plain": [
       "<AxesSubplot:xlabel='Nationality'>"
      ]
     },
     "execution_count": 231,
     "metadata": {},
     "output_type": "execute_result"
    },
    {
     "data": {
      "image/png": "[encoded data removed]",
      "text/plain": [
       "<Figure size 864x720 with 1 Axes>"
      ]
     },
     "metadata": {
      "needs_background": "light"
     },
     "output_type": "display_data"
    }
   ],
   "source": [
    "fig, ax = plt.subplots(figsize=(12,10))\n",
    "EC_teams.groupby('Nationality').size().plot(kind='bar')"
   ]
  },
  {
   "cell_type": "markdown",
   "id": "3d77745e-3a25-494f-ad3c-1fdf636a4188",
   "metadata": {},
   "source": [
    "We can see that most of the teams have around 25 players. We notice that we have scraped much less player names of North Macedonia. It might be necessary to manually complete these information."
   ]
  },
  {
   "cell_type": "markdown",
   "id": "c31f0861-3141-48b5-a77e-e8e870915e82",
   "metadata": {},
   "source": [
    "### Comparison of the average overall team ratings"
   ]
  },
  {
   "cell_type": "code",
   "execution_count": 230,
   "id": "ceca3c8b-fdbb-417c-a2da-ebf857f8b390",
   "metadata": {},
   "outputs": [
    {
     "data": {
      "text/plain": [
       "<AxesSubplot:xlabel='Nationality'>"
      ]
     },
     "execution_count": 230,
     "metadata": {},
     "output_type": "execute_result"
    },
    {
     "data": {
      "image/png": "[encoded data removed]",
      "text/plain": [
       "<Figure size 864x720 with 1 Axes>"
      ]
     },
     "metadata": {
      "needs_background": "light"
     },
     "output_type": "display_data"
    }
   ],
   "source": [
    "fig, ax = plt.subplots(figsize=(12,10))\n",
    "EC_teams.groupby('Nationality')['int_overall_rating'].mean().sort_values().plot(kind='bar')"
   ]
  },
  {
   "cell_type": "markdown",
   "id": "177e9da3-a52f-4ccc-a853-a3bdc492fdb4",
   "metadata": {},
   "source": [
    "Just looking at the overall_ratings of the players, Germany France and the Netherlands are the strongest competitors in the tournament."
   ]
  },
  {
   "cell_type": "markdown",
   "id": "ca54d26f-15cd-4e1c-ac4d-2d727922a409",
   "metadata": {},
   "source": [
    "### Average age per team"
   ]
  },
  {
   "cell_type": "code",
   "execution_count": 213,
   "id": "c9753234-83ff-4599-823c-44d3ec0e62c6",
   "metadata": {},
   "outputs": [
    {
     "data": {
      "text/plain": [
       "Nationality\n",
       "Sweden             29.260870\n",
       "Russia             29.173913\n",
       "Belgium            28.625000\n",
       "Croatia            28.333333\n",
       "Finland            28.083333\n",
       "France             28.040000\n",
       "Netherlands        28.000000\n",
       "Czech Republic     27.920000\n",
       "Spain              27.760000\n",
       "Ukraine            27.720000\n",
       "Scotland           27.695652\n",
       "Austria            27.692308\n",
       "Poland             27.680000\n",
       "Denmark            27.642857\n",
       "Hungary            27.160000\n",
       "Germany            26.884615\n",
       "Turkey             26.666667\n",
       "Slovakia           26.666667\n",
       "Switzerland        26.629630\n",
       "Italy              26.500000\n",
       "North Macedonia    26.384615\n",
       "Wales              25.769231\n",
       "England            25.423077\n",
       "Portugal           25.400000\n",
       "Name: age, dtype: float64"
      ]
     },
     "execution_count": 213,
     "metadata": {},
     "output_type": "execute_result"
    }
   ],
   "source": [
    "from datetime import datetime\n",
    "EC_teams['dt_date_of_birth'] = pd.to_datetime(EC_teams['dt_date_of_birth'])\n",
    "EC_teams['age'] = (datetime.now() - EC_teams['dt_date_of_birth']).astype('<m8[Y]')\n",
    "EC_teams.groupby('Nationality')['age'].mean().sort_values(ascending=False)"
   ]
  },
  {
   "cell_type": "markdown",
   "id": "6421438f-6fcf-4a13-81da-6a5beca58870",
   "metadata": {},
   "source": [
    "Here we can see the sorted list of the average age of the team. Sweden has the oldest team and Portugal has the youngest one. "
   ]
  },
  {
   "cell_type": "markdown",
   "id": "aef81262-8daf-4164-8ca5-f0458f89625b",
   "metadata": {},
   "source": [
    "### Heading abilities of the players\n",
    "In order to keep the graphs more comprehensible, we are only going to show the data of two teams in this graph."
   ]
  },
  {
   "cell_type": "code",
   "execution_count": 225,
   "id": "0d19efb2-6de7-429e-89bb-a46ccdf89611",
   "metadata": {},
   "outputs": [
    {
     "data": {
      "text/plain": [
       "<AxesSubplot:xlabel='int_height', ylabel='int_heading_accuracy'>"
      ]
     },
     "execution_count": 225,
     "metadata": {},
     "output_type": "execute_result"
    },
    {
     "data": {
      "image/png": "[encoded data removed]",
      "text/plain": [
       "<Figure size 864x720 with 1 Axes>"
      ]
     },
     "metadata": {
      "needs_background": "light"
     },
     "output_type": "display_data"
    }
   ],
   "source": [
    "teams_subset = ['Portugal', 'Germany']\n",
    "fig, ax = plt.subplots(figsize=(12,10))\n",
    "sns.scatterplot(data=EC_teams[EC_teams['Nationality'].isin(teams_subset)], x='int_height', y='int_heading_accuracy', hue='Nationality')"
   ]
  },
  {
   "cell_type": "markdown",
   "id": "46e64df4-df23-4a46-bae9-66e11d21a115",
   "metadata": {},
   "source": [
    "We can see that the Germans are taller than that a lot of them have a high heading accuracy. We could identify with such an analysis a weakness of the portugese team. Nevertheless, the graph is still quite noisy and it would be good to identify the defenders and attacking players in order to compare who plays against who. This would refine our analysis. Moreover it would be nice to see what player we are talking about when hovering over it. This is a feature that we should implement in our graphs. "
   ]
  },
  {
   "cell_type": "markdown",
   "id": "41fe72a7-b420-4ffa-8423-2c1d16e4c19c",
   "metadata": {},
   "source": [
    "We can build many more of these graphs were we compare the abilities of different players. In our project, we will need to find ways to compare all these different abilities of adversary plays in a meaningful way."
   ]
  },
  {
   "cell_type": "code",
   "execution_count": null,
   "id": "4bc4707b-cfdb-432b-aeb9-6d2cf1852097",
   "metadata": {},
   "outputs": [],
   "source": []
  }
 ],
 "metadata": {
  "kernelspec": {
   "display_name": "Python 3",
   "language": "python",
   "name": "python3"
  },
  "language_info": {
   "codemirror_mode": {
    "name": "ipython",
    "version": 3
   },
   "file_extension": ".py",
   "mimetype": "text/x-python",
   "name": "python",
   "nbconvert_exporter": "python",
   "pygments_lexer": "ipython3",
   "version": "3.9.4"
  }
 },
 "nbformat": 4,
 "nbformat_minor": 5
}
